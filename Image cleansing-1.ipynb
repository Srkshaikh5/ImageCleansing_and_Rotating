{
 "cells": [
  {
   "cell_type": "markdown",
   "metadata": {},
   "source": [
    "### libraries"
   ]
  },
  {
   "cell_type": "code",
   "execution_count": 1,
   "metadata": {
    "ExecuteTime": {
     "end_time": "2019-09-05T06:02:38.863614Z",
     "start_time": "2019-09-05T06:02:38.066294Z"
    }
   },
   "outputs": [],
   "source": [
    "import numpy as np\n",
    "import cv2\n",
    "import glob, os\n",
    "import pytesseract\n",
    "from PIL import Image, ImageEnhance, ImageFilter,ImageOps\n",
    "import math\n",
    "from scipy import ndimage\n",
    "import imutils\n",
    "import math\n",
    "\n",
    "import matplotlib.pyplot as plt\n",
    "import re\n",
    "import pandas as pd\n",
    "\n",
    "import tempfile\n",
    "\n",
    "# from brisque import BRISQUE"
   ]
  },
  {
   "cell_type": "code",
   "execution_count": 2,
   "metadata": {
    "ExecuteTime": {
     "end_time": "2019-09-05T06:02:38.878496Z",
     "start_time": "2019-09-05T06:02:38.865600Z"
    }
   },
   "outputs": [
    {
     "data": {
      "text/plain": [
       "<pandas.core.config.option_context at 0x20b96e01b38>"
      ]
     },
     "execution_count": 2,
     "metadata": {},
     "output_type": "execute_result"
    }
   ],
   "source": [
    "pd.set_option('display.max_columns', None)  # or 1000\n",
    "pd.set_option('display.max_rows', None)  # or 1000\n",
    "pd.set_option('display.max_colwidth', -1)\n",
    "pd.option_context('display.max_rows', None, 'display.max_columns', None)"
   ]
  },
  {
   "cell_type": "markdown",
   "metadata": {},
   "source": [
    "### Image Rotation "
   ]
  },
  {
   "cell_type": "code",
   "execution_count": 18,
   "metadata": {
    "ExecuteTime": {
     "end_time": "2019-09-05T06:07:31.294075Z",
     "start_time": "2019-09-05T06:07:31.288122Z"
    }
   },
   "outputs": [],
   "source": [
    "IMAGE_SIZE = 2000\n",
    "BINARY_THREHOLD = 175"
   ]
  },
  {
   "cell_type": "raw",
   "metadata": {
    "ExecuteTime": {
     "end_time": "2019-09-05T06:07:52.286699Z",
     "start_time": "2019-09-05T06:07:52.278277Z"
    }
   },
   "source": [
    "def rotate_image(image):\n",
    "#     image = cv2.imread(im)\n",
    "    gray = cv2.cvtColor(image, cv2.COLOR_BGR2GRAY)\n",
    "    gray = cv2.bitwise_not(gray)\n",
    "    thresh = cv2.threshold(gray, 0, 255,cv2.THRESH_BINARY | cv2.THRESH_OTSU)[1]\n",
    "    \n",
    "    '''grab the (x, y) coordinates of all pixel values that are greater than zero, then use these coordinates to\n",
    "    compute a rotated bounding box that contains all coordinates '''\n",
    "    coords = np.column_stack(np.where(thresh > 0))\n",
    "    angle = cv2.minAreaRect(coords)[-1]\n",
    "    \n",
    "    '''the `cv2.minAreaRect` function returns values in the range [-90, 0); as the rectangle rotates clockwise the\n",
    "    returned angle trends to 0 -- in this special case we need to add 90 degrees to the angle '''\n",
    "    if angle < -45:\n",
    "        angle = -(90 + angle)\n",
    "\n",
    "    # otherwise, just take the inverse of the angle to make it positive\n",
    "    else:\n",
    "        angle = -angle\n",
    "    # rotate the image to deskew it\n",
    "    (h, w) = image.shape[:2]\n",
    "    center = (w // 2, h // 2)\n",
    "    M = cv2.getRotationMatrix2D(center, angle, 1.0)\n",
    "    rotated = cv2.warpAffine(image, M, (w, h),flags=cv2.INTER_CUBIC, borderMode=cv2.BORDER_REPLICATE)\n",
    "    return rotated"
   ]
  },
  {
   "cell_type": "code",
   "execution_count": 69,
   "metadata": {
    "ExecuteTime": {
     "end_time": "2019-09-05T06:45:58.381759Z",
     "start_time": "2019-09-05T06:45:58.358217Z"
    }
   },
   "outputs": [],
   "source": [
    "def rotate(image, center=None, scale=1):\n",
    "\n",
    "    center=None\n",
    "    scale=1\n",
    "    # image = cv2.imread('../data/all_images/processed/image_1_processed.jpg')\n",
    "    image = cv2.imread(image)\n",
    "    img = image\n",
    "\n",
    "    gray = cv2.cvtColor(img, cv2.COLOR_BGR2GRAY)\n",
    "    gray = cv2.bitwise_not(gray)\n",
    "    thresh = cv2.threshold(gray, 0, 255,cv2.THRESH_BINARY | cv2.THRESH_OTSU)[1]\n",
    "\n",
    "    '''grab the (x, y) coordinates of all pixel values that are greater than zero, then use these coordinates to\n",
    "    compute a rotated bounding box that contains all coordinates '''\n",
    "    coords = np.column_stack(np.where(thresh > 0))\n",
    "    angle = cv2.minAreaRect(coords)[-1]\n",
    "\n",
    "    '''the `cv2.minAreaRect` function returns values in the range [-90, 0); as the rectangle rotates clockwise the\n",
    "    returned angle trends to 0 -- in this special case we need to add 90 degrees to the angle '''\n",
    "    if angle < -45:\n",
    "        angle = -(90 + angle)\n",
    "\n",
    "    # otherwise, just take the inverse of the angle to make it positive\n",
    "    else:\n",
    "        angle = -angle\n",
    "    # rotate the image to deskew it\n",
    "    (h, w) = img.shape[:2]\n",
    "    center = (w // 2, h // 2)\n",
    "    M = cv2.getRotationMatrix2D(center, angle, 1.0)\n",
    "    rotated = cv2.warpAffine(image, M, (w, h),flags=cv2.INTER_CUBIC, borderMode=cv2.BORDER_REPLICATE)\n",
    "\n",
    "    gray1 = cv2.cvtColor(rotated, cv2.COLOR_BGR2GRAY)\n",
    "    (h, w) = gray1.shape[:2]\n",
    "    #     gray = cv2.bitwise_not(gray)\n",
    "    scale_percent = 150  # percent of original size\n",
    "    width = int(gray1.shape[1] * scale_percent / 100)\n",
    "    height = int(gray1.shape[0] * scale_percent / 100)\n",
    "    dim = (width, height)\n",
    "    resized = cv2.resize(gray1, dim, interpolation=cv2.INTER_AREA)\n",
    "    th2 = cv2.adaptiveThreshold(resized,255,cv2.ADAPTIVE_THRESH_MEAN_C,\\\n",
    "            cv2.THRESH_BINARY,9,15)\n",
    "\n",
    "    try:\n",
    "        angle = 360 - int(\n",
    "            re.search('(?<=Rotate: )\\d+',\n",
    "                      pytesseract.image_to_osd(th2)).group(0))\n",
    "    except:\n",
    "        scale_percent = 150  # percent of original size\n",
    "        width = int(img.shape[1] * scale_percent / 100)\n",
    "        height = int(img.shape[0] * scale_percent / 100)\n",
    "        dim = (width, height)\n",
    "        resized = cv2.resize(img, dim, interpolation=cv2.INTER_AREA)\n",
    "        angle = 360 - int(\n",
    "            re.search('(?<=Rotate: )\\d+',\n",
    "                      pytesseract.image_to_osd(resized)).group(0))\n",
    "\n",
    "    if angle == 90:\n",
    "        x = 2.1\n",
    "        y = 1.4\n",
    "        h1 = h\n",
    "        w1 = w\n",
    "    elif angle == 180:\n",
    "        x = 2\n",
    "        y = 2\n",
    "        h1 = w\n",
    "        w1 = h\n",
    "    elif angle == 270:\n",
    "        x = 2.8\n",
    "        y = 2\n",
    "        h1 = h\n",
    "        w1 = w\n",
    "    else:\n",
    "        x = 1\n",
    "        y = 1\n",
    "        h1 = w\n",
    "        w1 = h\n",
    "\n",
    "    if center is None:\n",
    "        center = (w / x, h / y)\n",
    "\n",
    "    # Perform the rotation\n",
    "    M = cv2.getRotationMatrix2D(center, angle, scale)\n",
    "    rotated1 = cv2.warpAffine(rotated, M, (h1, w1))\n",
    "\n",
    "    temp_file = tempfile.NamedTemporaryFile(delete=False, suffix='.jpg')\n",
    "    temp_filename = temp_file.name\n",
    "    cv2.imwrite(temp_filename, rotated1)\n",
    "    return temp_filename\n"
   ]
  },
  {
   "cell_type": "markdown",
   "metadata": {},
   "source": [
    "### Increase image quality"
   ]
  },
  {
   "cell_type": "code",
   "execution_count": 67,
   "metadata": {
    "ExecuteTime": {
     "end_time": "2019-09-05T06:44:46.591671Z",
     "start_time": "2019-09-05T06:44:46.574808Z"
    }
   },
   "outputs": [],
   "source": [
    "def process_image_for_ocr(file_path):\n",
    "    # TODO : Implement using opencv\n",
    "    temp_filename = set_image_dpi(file_path)\n",
    "    im_new = remove_noise_and_smooth(temp_filename)\n",
    "    return im_new\n",
    "\n",
    "def set_image_dpi(file_path):\n",
    "    im = Image.open(file_path)\n",
    "    length_x, width_y = im.size\n",
    "    factor = max(2, int(IMAGE_SIZE / length_x))\n",
    "    size = factor * length_x, factor * width_y\n",
    "    # size = (1800, 1800)\n",
    "#     im_resized = im.resize(size, Image.ANTIALIAS)\n",
    "    im_resized = im.resize(size, Image.ANTIALIAS)\n",
    "    temp_file = tempfile.NamedTemporaryFile(delete=False, suffix='.jpg')\n",
    "    temp_filename = temp_file.name\n",
    "    im_resized.save(temp_filename, dpi=(500, 500))\n",
    "    return temp_filename\n",
    "\n",
    "def image_smoothening(img):\n",
    "    ret1, th1 = cv2.threshold(img, BINARY_THREHOLD, 255, cv2.THRESH_BINARY)\n",
    "    ret2, th2 = cv2.threshold(th1, 0, 255, cv2.THRESH_BINARY + cv2.THRESH_OTSU)\n",
    "    blur = cv2.GaussianBlur(th2, (1, 1), 0)\n",
    "    ret3, th3 = cv2.threshold(blur, 0, 255, cv2.THRESH_BINARY + cv2.THRESH_OTSU)\n",
    "    return th3\n",
    "\n",
    "def remove_noise_and_smooth(file_name):\n",
    "    img = cv2.imread(file_name, 0)\n",
    "    filtered = cv2.adaptiveThreshold(img.astype(np.uint8), 255, cv2.ADAPTIVE_THRESH_MEAN_C, cv2.THRESH_BINARY, 41,\n",
    "                                     9)\n",
    "    kernel = np.ones((1, 1), np.uint8)\n",
    "    opening = cv2.morphologyEx(filtered, cv2.MORPH_OPEN, kernel)\n",
    "    closing = cv2.morphologyEx(opening, cv2.MORPH_CLOSE, kernel)\n",
    "    img = image_smoothening(img)\n",
    "    or_image = cv2.bitwise_or(img, closing)\n",
    "    return or_image"
   ]
  },
  {
   "cell_type": "code",
   "execution_count": 39,
   "metadata": {
    "ExecuteTime": {
     "end_time": "2019-09-05T06:18:16.212866Z",
     "start_time": "2019-09-05T06:18:14.788338Z"
    }
   },
   "outputs": [],
   "source": [
    "rotate_image = rotate(image='../voterid/image_4.jpg') \n",
    "temp_filename = set_image_dpi(rotate_image)\n",
    "im_new = remove_noise_and_smooth(temp_filename)\n",
    "\n",
    "cv2.imshow('test',im_new)\n",
    "cv2.waitKey()\n",
    "cv2.destroyAllWindows()"
   ]
  },
  {
   "cell_type": "code",
   "execution_count": 7,
   "metadata": {
    "ExecuteTime": {
     "end_time": "2019-09-05T06:04:41.049968Z",
     "start_time": "2019-09-05T06:04:41.041074Z"
    }
   },
   "outputs": [
    {
     "name": "stdout",
     "output_type": "stream",
     "text": [
      "['../data/all_images\\\\a_adhar_cropped.jpeg', '../data/all_images\\\\IMG-20190808-WA0023_cropped.jpeg', '../data/all_images\\\\IMG-20190808-WA0026_cropped.jpeg', '../data/all_images\\\\IMG-20190808-WA0032_cropped.jpeg', '../data/all_images\\\\IMG-20190808-WA0037_cropped.jpeg', '../data/all_images\\\\IMG-20190808-WA0038_cropped.jpeg', '../data/all_images\\\\IMG-20190808-WA0039_cropped.jpeg', '../data/all_images\\\\IMG-20190808-WA0041_cropped.jpeg', '../data/all_images\\\\image_1.jpg', '../data/all_images\\\\image_2.jpg', '../data/all_images\\\\image_3.jpg', '../data/all_images\\\\image_4.jpg', '../data/all_images\\\\image_5.jpg', '../data/all_images\\\\image_8.jpg']\n"
     ]
    }
   ],
   "source": [
    "imdir = '../data/all_images/'\n",
    "ext = ['png', 'jpeg', 'jpg']    # Add image formats here\n",
    "files = []\n",
    "[files.extend(glob.glob(imdir + '*.' + e)) for e in ext]\n",
    "score = []\n",
    "print(files)"
   ]
  },
  {
   "cell_type": "code",
   "execution_count": 68,
   "metadata": {
    "ExecuteTime": {
     "end_time": "2019-09-05T06:45:14.632112Z",
     "start_time": "2019-09-05T06:44:56.875084Z"
    }
   },
   "outputs": [],
   "source": [
    "for file in files:\n",
    "    rotate_image = rotate(image=file) \n",
    "    temp_filename = set_image_dpi(rotate_image)\n",
    "    im_new = remove_noise_and_smooth(temp_filename)\n",
    "    filename = file.split('\\\\')[-1].split(\".\")[0]+\"_processed.jpg\"\n",
    "    \n",
    "    cv2.imwrite('../data/all_images/processed/'+filename,im_new)\n",
    "    \n",
    "    \n",
    "#     cv2.imshow('test',im_new)\n",
    "#     cv2.waitKey()\n",
    "#     cv2.destroyAllWindows()"
   ]
  },
  {
   "cell_type": "code",
   "execution_count": null,
   "metadata": {},
   "outputs": [],
   "source": []
  },
  {
   "cell_type": "code",
   "execution_count": null,
   "metadata": {},
   "outputs": [],
   "source": []
  }
 ],
 "metadata": {
  "kernelspec": {
   "display_name": "Python 3",
   "language": "python",
   "name": "python3"
  },
  "language_info": {
   "codemirror_mode": {
    "name": "ipython",
    "version": 3
   },
   "file_extension": ".py",
   "mimetype": "text/x-python",
   "name": "python",
   "nbconvert_exporter": "python",
   "pygments_lexer": "ipython3",
   "version": "3.6.9"
  }
 },
 "nbformat": 4,
 "nbformat_minor": 2
}
